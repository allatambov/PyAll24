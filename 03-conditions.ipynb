{
 "cells": [
  {
   "cell_type": "markdown",
   "metadata": {},
   "source": [
    "# Программирование для всех (основы Python)\n",
    "\n",
    "*Алла Тамбовцева, НИУ ВШЭ*"
   ]
  },
  {
   "cell_type": "markdown",
   "metadata": {},
   "source": [
    "## Логические выражения и условные конструкции"
   ]
  },
  {
   "cell_type": "markdown",
   "metadata": {},
   "source": [
    "### Проверка условий и логические выражения\n",
    "\n",
    "Сохраним в переменную `age` возраст респондента:"
   ]
  },
  {
   "cell_type": "code",
   "execution_count": 1,
   "metadata": {},
   "outputs": [],
   "source": [
    "age = 24"
   ]
  },
  {
   "cell_type": "markdown",
   "metadata": {},
   "source": [
    "Сравним возраст с 18 с помощью операторов `>` и `<`:"
   ]
  },
  {
   "cell_type": "code",
   "execution_count": 2,
   "metadata": {},
   "outputs": [
    {
     "data": {
      "text/plain": [
       "True"
      ]
     },
     "execution_count": 2,
     "metadata": {},
     "output_type": "execute_result"
    }
   ],
   "source": [
    "age > 18"
   ]
  },
  {
   "cell_type": "code",
   "execution_count": 3,
   "metadata": {},
   "outputs": [
    {
     "data": {
      "text/plain": [
       "False"
      ]
     },
     "execution_count": 3,
     "metadata": {},
     "output_type": "execute_result"
    }
   ],
   "source": [
    "age < 18"
   ]
  },
  {
   "cell_type": "markdown",
   "metadata": {},
   "source": [
    "В результате проверки условий мы получили значения `True` и `False` логического типа, «истина» или «ложь». Чтобы проверить точное соответствие значению, потребуется оператор `==` (двойное «равно», чтобы отличать от обычного присваивания с `=`):"
   ]
  },
  {
   "cell_type": "code",
   "execution_count": 4,
   "metadata": {},
   "outputs": [
    {
     "data": {
      "text/plain": [
       "False"
      ]
     },
     "execution_count": 4,
     "metadata": {},
     "output_type": "execute_result"
    }
   ],
   "source": [
    "age == 18"
   ]
  },
  {
   "cell_type": "markdown",
   "metadata": {},
   "source": [
    "Нестрогие неравенства (больше или равно, меньше или равно) формулируются с помощью составных операторов:"
   ]
  },
  {
   "cell_type": "code",
   "execution_count": 5,
   "metadata": {},
   "outputs": [
    {
     "name": "stdout",
     "output_type": "stream",
     "text": [
      "True\n",
      "False\n"
     ]
    }
   ],
   "source": [
    "# нет пробела между > и =\n",
    "    \n",
    "print(age >= 18)\n",
    "print(age <= 18)"
   ]
  },
  {
   "cell_type": "markdown",
   "metadata": {},
   "source": [
    "Отрицание равенства в Python обозначается с помощью оператора `!=` (вообще `!` в программировании используется для отрицания). "
   ]
  },
  {
   "cell_type": "code",
   "execution_count": 6,
   "metadata": {},
   "outputs": [
    {
     "name": "stdout",
     "output_type": "stream",
     "text": [
      "False\n"
     ]
    }
   ],
   "source": [
    "print(age != 24) # не равно"
   ]
  },
  {
   "cell_type": "markdown",
   "metadata": {},
   "source": [
    "Стоит отметить, что Python достаточно лояльно относится к разделению между некоторыми типами данных. Например, если мы сравним целое число и то же число, но с плавающей точкой (с дробной частью равной 0), Python сообщит, что эти числа совпадают."
   ]
  },
  {
   "cell_type": "code",
   "execution_count": 7,
   "metadata": {},
   "outputs": [
    {
     "data": {
      "text/plain": [
       "True"
      ]
     },
     "execution_count": 7,
     "metadata": {},
     "output_type": "execute_result"
    }
   ],
   "source": [
    "6 == 6.0 # верно"
   ]
  },
  {
   "cell_type": "markdown",
   "metadata": {},
   "source": [
    "То же будет, если мы сравним число 1 и логическое значение `True` или число 0 и логическое значение `False`:"
   ]
  },
  {
   "cell_type": "code",
   "execution_count": 8,
   "metadata": {},
   "outputs": [
    {
     "name": "stdout",
     "output_type": "stream",
     "text": [
      "True\n",
      "True\n"
     ]
    }
   ],
   "source": [
    "print(1 == True)\n",
    "print(False == 0)"
   ]
  },
  {
   "cell_type": "markdown",
   "metadata": {},
   "source": [
    "Для других типов это уже не будет работать. Например, строка `\"True\"` и логическое значение `True` не будут равны, так как логическое значение `True` нельзя заменить текстом (а числом 1 можно, и мы это уже видели ранее):"
   ]
  },
  {
   "cell_type": "code",
   "execution_count": 9,
   "metadata": {},
   "outputs": [
    {
     "data": {
      "text/plain": [
       "False"
      ]
     },
     "execution_count": 9,
     "metadata": {},
     "output_type": "execute_result"
    }
   ],
   "source": [
    "\"True\" == True"
   ]
  },
  {
   "cell_type": "markdown",
   "metadata": {},
   "source": [
    "### Объединение условий\n",
    "\n",
    "Условия можно объединять с помощью специальных логических операторов:\n",
    "    \n",
    "* оператор `and` или `&` для логического «И» (одновременное выполнение условий);\n",
    "* оператор `or` или `|` для логического «ИЛИ» (хотя бы одно из условий верно);\n",
    "* оператор `^` для логического «ИСКЛЮЧАЮЩЕГО ИЛИ» (ровно одно из условий верно).\n",
    "\n",
    "Последняя операция в программировании обычно представляется оператором `xor`, однако в Python такого «словесного» оператора нет, есть только символьный `^`. \n",
    "\n",
    "«Словесные» операторы `and` и `or` в Python активно используются, но вот библиотеки для работы с данными, которые мы будем использовать далее, признают только «символьные» операторы (`&`, `|` и `^`). Давайте создадим переменные `one` и `two` и проверим разные условия. Ниже приведены по два варианта для каждого условия – со словесным и с символьным оператором:"
   ]
  },
  {
   "cell_type": "code",
   "execution_count": 10,
   "metadata": {},
   "outputs": [],
   "source": [
    "one = 100\n",
    "two = 200"
   ]
  },
  {
   "cell_type": "code",
   "execution_count": 11,
   "metadata": {},
   "outputs": [
    {
     "name": "stdout",
     "output_type": "stream",
     "text": [
      "True\n",
      "True\n"
     ]
    }
   ],
   "source": [
    "# True & True = True, оба верны\n",
    "\n",
    "print(one >= 100 and two >= 100)\n",
    "print((one >= 100) & (two >= 100))"
   ]
  },
  {
   "cell_type": "code",
   "execution_count": 12,
   "metadata": {},
   "outputs": [
    {
     "name": "stdout",
     "output_type": "stream",
     "text": [
      "False\n",
      "False\n"
     ]
    }
   ],
   "source": [
    "# False & True = False, не оба верны\n",
    "# первое не выполняется\n",
    "\n",
    "print(one >= 200 and two >= 200)\n",
    "print((one >= 200) & (two >= 200))"
   ]
  },
  {
   "cell_type": "code",
   "execution_count": 13,
   "metadata": {},
   "outputs": [
    {
     "name": "stdout",
     "output_type": "stream",
     "text": [
      "True\n",
      "True\n"
     ]
    }
   ],
   "source": [
    "# False | True = True, хотя бы одно верно (второе)\n",
    "\n",
    "print(one >= 200 or two >= 200)\n",
    "print((one >= 200) | (two >= 200))"
   ]
  },
  {
   "cell_type": "code",
   "execution_count": 14,
   "metadata": {},
   "outputs": [
    {
     "name": "stdout",
     "output_type": "stream",
     "text": [
      "True\n",
      "True\n"
     ]
    }
   ],
   "source": [
    "# True | True = True, снова хотя бы одно верно (оба)\n",
    "\n",
    "print(one >= 100 or two >= 100)\n",
    "print((one >= 100) | (two >= 100))"
   ]
  },
  {
   "cell_type": "code",
   "execution_count": 15,
   "metadata": {},
   "outputs": [
    {
     "name": "stdout",
     "output_type": "stream",
     "text": [
      "False\n"
     ]
    }
   ],
   "source": [
    "# True ^ True = False\n",
    "# для True нужно ровно одно верное, а здесь верны оба\n",
    "\n",
    "print((one >= 100) ^ (two >= 100))"
   ]
  },
  {
   "cell_type": "markdown",
   "metadata": {},
   "source": [
    "**Примечание.** Обратите внимание на круглые скобки вокруг частей условия, они здесь важны, так как символьные операторы `&`, `|` и `^` – самые сильные. Если не поставить скобки, можно получить странный результат:"
   ]
  },
  {
   "cell_type": "code",
   "execution_count": 16,
   "metadata": {},
   "outputs": [
    {
     "name": "stdout",
     "output_type": "stream",
     "text": [
      "100 200\n",
      "False\n"
     ]
    }
   ],
   "source": [
    "print(one, two)\n",
    "print(one == 100 & two == 200)"
   ]
  },
  {
   "cell_type": "markdown",
   "metadata": {},
   "source": [
    "С чем связана эта странность? Ведь в `one` ровно 100, а в `two` ровно 200, оба условия одновременно верны... Дело в том, что раз оператор `&` самый сильный, самым первым выполняется действие в середине выражения, то есть `100 & two`:"
   ]
  },
  {
   "cell_type": "code",
   "execution_count": 17,
   "metadata": {},
   "outputs": [
    {
     "data": {
      "text/plain": [
       "64"
      ]
     },
     "execution_count": 17,
     "metadata": {},
     "output_type": "execute_result"
    }
   ],
   "source": [
    "100 & two # итого условие one == 64 == 200"
   ]
  },
  {
   "cell_type": "markdown",
   "metadata": {},
   "source": [
    "Ответ кажется неожиданным, но здесь вступает в действие ещё одна особенность Python. Оператор `&` при работе с числами (а не значениями `True` и `False`) выполняет их умножение в двоичной системе, а затем переводит результат обратно в десятичную. В смысл этих операций углубляться необязательно, главное, помнить, что наличие и порядок скобок важны, особенно, если мы используем символы для объединения условий :)"
   ]
  },
  {
   "cell_type": "markdown",
   "metadata": {},
   "source": [
    "### Операторы `in` и `not`\n",
    "\n",
    "В Python есть ещё полезные операторы: оператор принадлежности `in` и оператор отрицания `not`. Пусть у нас есть списки отличных, хороших, удовлетворительных и плохих оценок (про списки ещё будем говорить, пока просто смотрим на них как на обычные перечни элементов)."
   ]
  },
  {
   "cell_type": "code",
   "execution_count": 18,
   "metadata": {},
   "outputs": [],
   "source": [
    "excel = [8, 9, 10]\n",
    "good = [6, 7]\n",
    "sat = [4, 5]\n",
    "bad = [1, 2, 3]"
   ]
  },
  {
   "cell_type": "markdown",
   "metadata": {},
   "source": [
    "Проверим, лежит ли оценка 8 в плохих:"
   ]
  },
  {
   "cell_type": "code",
   "execution_count": 19,
   "metadata": {},
   "outputs": [
    {
     "data": {
      "text/plain": [
       "False"
      ]
     },
     "execution_count": 19,
     "metadata": {},
     "output_type": "execute_result"
    }
   ],
   "source": [
    "8 in bad"
   ]
  },
  {
   "cell_type": "markdown",
   "metadata": {},
   "source": [
    "Применим отрицание:"
   ]
  },
  {
   "cell_type": "code",
   "execution_count": 20,
   "metadata": {},
   "outputs": [
    {
     "data": {
      "text/plain": [
       "True"
      ]
     },
     "execution_count": 20,
     "metadata": {},
     "output_type": "execute_result"
    }
   ],
   "source": [
    "8 not in bad # верно!"
   ]
  },
  {
   "cell_type": "markdown",
   "metadata": {},
   "source": [
    "То же будет работать и для других структур, содержащих несколько элементов, например, для строк:"
   ]
  },
  {
   "cell_type": "code",
   "execution_count": 21,
   "metadata": {},
   "outputs": [
    {
     "name": "stdout",
     "output_type": "stream",
     "text": [
      "True\n",
      "False\n",
      "True\n"
     ]
    }
   ],
   "source": [
    "sentence = \"Python is going to faint\"\n",
    "print(\"Python\" in sentence)\n",
    "print(\"python\" in sentence)\n",
    "print(\"snake\" not in sentence)"
   ]
  },
  {
   "cell_type": "markdown",
   "metadata": {},
   "source": [
    "### Условные конструкции"
   ]
  },
  {
   "cell_type": "markdown",
   "metadata": {},
   "source": [
    "Условные конструкции – конструкции с **операторами условия**. Условная конструкция обычно предполагает «развилку»: если условие выполняется, должен выполняться один набор действий, если нет – другой набор действий. Давайте напишем программу, которая будет просить пользователя ввести целое число, и если это число менее 10, на экран будет выводиться сообщение `Мало`, иначе – `Много`. И заодно познакомимся с конструкцией *if-else*."
   ]
  },
  {
   "cell_type": "code",
   "execution_count": 22,
   "metadata": {},
   "outputs": [
    {
     "name": "stdout",
     "output_type": "stream",
     "text": [
      "Введите число: 8\n",
      "Мало\n"
     ]
    }
   ],
   "source": [
    "x = int(input(\"Введите число: \"))\n",
    "\n",
    "if x < 10:\n",
    "    print(\"Мало\")\n",
    "else:\n",
    "    print(\"Много\")"
   ]
  },
  {
   "cell_type": "markdown",
   "metadata": {},
   "source": [
    "В части с `if` мы прописываем условие, в зависимости от которого Python будет делать выбор, что выводить на экран, а после двоеточия перечисляем действия, которые будут выполняться в случае, если `x` удовлетворяет условию. В части с `else` мы уже не пишем никакого условия – оператор `else` сам по себе означает «в случае, если условие в выражении с `if` не выполнено».\n",
    "\n",
    "Часть с `else` является необязательной: программа может существовать только с условием `if`. Тогда в случае невыполнения условия ничего происходить не будет, Python просто перейдет к следующим строкам кода."
   ]
  },
  {
   "cell_type": "code",
   "execution_count": 23,
   "metadata": {},
   "outputs": [],
   "source": [
    "y = 10\n",
    "\n",
    "# ничего не происходит\n",
    "\n",
    "if y < 10:\n",
    "    print(\"Мало\")"
   ]
  },
  {
   "cell_type": "markdown",
   "metadata": {},
   "source": [
    "Как быть, если условий несколько? Например, мы просим пользователя ввести число, и если число больше 10, на экране должно быть сообщение `Много`, если ровно 10 – `В самый раз`, если меньше – `Мало`. Условные конструкции можно вкладывать друг друга, главное не забывать при этом про отступы:"
   ]
  },
  {
   "cell_type": "code",
   "execution_count": 24,
   "metadata": {},
   "outputs": [
    {
     "name": "stdout",
     "output_type": "stream",
     "text": [
      "Введите число: 10\n",
      "В самый раз\n"
     ]
    }
   ],
   "source": [
    "x = int(input(\"Введите число: \")) # 10\n",
    "\n",
    "if x < 10:\n",
    "    print(\"Мало\")\n",
    "else:\n",
    "    if x == 10:\n",
    "        print(\"В самый раз\")\n",
    "    else: \n",
    "        print(\"Много\")"
   ]
  },
  {
   "cell_type": "code",
   "execution_count": 25,
   "metadata": {},
   "outputs": [
    {
     "name": "stdout",
     "output_type": "stream",
     "text": [
      "Введите число: 8\n",
      "Мало\n"
     ]
    }
   ],
   "source": [
    "x = int(input(\"Введите число: \")) # 8\n",
    "\n",
    "if x < 10:\n",
    "    print(\"Мало\")\n",
    "else:\n",
    "    if x == 10:\n",
    "        print(\"В самый раз\")\n",
    "    else: \n",
    "        print(\"Много\")"
   ]
  },
  {
   "cell_type": "markdown",
   "metadata": {},
   "source": [
    "Можно воспользоваться оператором `elif`, который по смыслу является сочетанием `else + if`: если предыдущее условие не выполнено, то, нужно проверить следующее, и если оно тоже не выполнено, то уже перейти к ветке с `else`."
   ]
  },
  {
   "cell_type": "code",
   "execution_count": 26,
   "metadata": {},
   "outputs": [
    {
     "name": "stdout",
     "output_type": "stream",
     "text": [
      "Введите число: 8\n",
      "Мало\n"
     ]
    }
   ],
   "source": [
    "# более красивый вариант предыдущего кода\n",
    "\n",
    "x = int(input(\"Введите число: \")) # 8\n",
    "if x < 10:\n",
    "    print(\"Мало\")\n",
    "elif x == 10:\n",
    "    print(\"В самый раз\")\n",
    "else: \n",
    "    print(\"Много\")"
   ]
  },
  {
   "cell_type": "markdown",
   "metadata": {},
   "source": [
    "Ответвлений с `elif` может быть несколько: сколько условий, столько и выражений с `elif`. "
   ]
  },
  {
   "cell_type": "markdown",
   "metadata": {},
   "source": [
    "Законный вопрос: а можно ли обойтись совсем без `elif`, просто записав несколько выражений с `if`? Тут всё зависит от ситуации. Иногда решения использовать `elif` и `if`, не меняя остальной код, будут равнозначными. В случае, когда условия как-то связаны между собой, нужно быть более внимательными. Рассмотрим такой пример. "
   ]
  },
  {
   "cell_type": "markdown",
   "metadata": {},
   "source": [
    "**Случай 1.** Если оценка меньше 10, мы выводим на экран сообщение `Это нормально`, если нет, то проверяем, равна ли она 10: если да, то выводим `Отлично`, если нет – ничего не делаем. При этом, **после** всех этих действий делаем дополнительную проверку: если оценка меньше 6, выводим `Плохо`. "
   ]
  },
  {
   "cell_type": "code",
   "execution_count": 27,
   "metadata": {},
   "outputs": [
    {
     "name": "stdout",
     "output_type": "stream",
     "text": [
      "Это нормально\n",
      "Плохо\n"
     ]
    }
   ],
   "source": [
    "mark = 3\n",
    "\n",
    "if mark < 10:\n",
    "    print(\"Это нормально\")\n",
    "elif mark == 10:\n",
    "    print(\"Отлично\")\n",
    "if mark < 6:\n",
    "    print(\"Плохо\")"
   ]
  },
  {
   "cell_type": "markdown",
   "metadata": {},
   "source": [
    "**Случай 2.** Если оценка меньше 10, мы выводим на экран сообщение `Это нормально`, если нет, то проверяем, равна ли она 10: если да, то выводим `Отлично`, если нет – сравниваем ее с 6. Если оценка меньше 6, выводим `Плохо`."
   ]
  },
  {
   "cell_type": "code",
   "execution_count": 28,
   "metadata": {},
   "outputs": [
    {
     "name": "stdout",
     "output_type": "stream",
     "text": [
      "Это нормально\n"
     ]
    }
   ],
   "source": [
    "if mark < 10:\n",
    "    print(\"Это нормально\")\n",
    "elif mark == 10:\n",
    "    print(\"Отлично\")\n",
    "elif mark < 6:\n",
    "    print(\"Плохо\")"
   ]
  },
  {
   "cell_type": "markdown",
   "metadata": {},
   "source": [
    "Почему во втором случае мы не увидели сообщение `Плохо`? Потому что из-за второго `elif` мы попросту до него не дошли! На ветку со вторым `elif` мы попадаем в случае, если предыдущее условие не выполняется, то есть если оценка  не равна 10. А на ветку с первым `elif` мы попадем в случае, если оценка не менее 10. Получается, что мы должны выводить слово `Плохо` в случае, когда оценка более 10 и при этом менее 6, чего в природе не бывает. Использовав `elif` необдуманно, мы добавили лишнее условие, которое никогда не будет выполняться! \n",
    "\n",
    "Тут будет полезно вспомнить схемы, которые многие, наверное, видели на уроках информатики в школе. Запоминать их необязательно, просто они хорошо иллюстрируют различия между двумя случаями."
   ]
  },
  {
   "cell_type": "markdown",
   "metadata": {},
   "source": [
    "**Случай 1**\n",
    "\n",
    "![title](https://raw.githubusercontent.com/allatambov/PyAll24/main/1.png)"
   ]
  },
  {
   "cell_type": "markdown",
   "metadata": {},
   "source": [
    "**Случай 2**\n",
    "\n",
    "![title](https://raw.githubusercontent.com/allatambov/PyAll24/main/2.png)"
   ]
  },
  {
   "cell_type": "markdown",
   "metadata": {},
   "source": [
    "Возможно, предыдущее обсуждение `if` и `elif` могло вас чуть-чуть запутать, но это не повод расстраиваться. Важно просто помнить, что разница между этими операторами есть. Остальное можно проверить экспериментально на конкретном примере :) "
   ]
  },
  {
   "cell_type": "markdown",
   "metadata": {},
   "source": [
    "Чтобы ещё немного поиграть с условиями, давайте напишем более содержательный код, который будет выдавать комментарий к оценке в 10-балльной шкале (оценка выше 7 – «отлично», выше 5 и ниже 8 – «хорошо», выше 3 и ниже 6 – «удовлетворительно», ниже 4 – «плохо»."
   ]
  },
  {
   "cell_type": "markdown",
   "metadata": {},
   "source": [
    "**Решение 1.** Несколько вложенных условий с оператором `elif`:"
   ]
  },
  {
   "cell_type": "code",
   "execution_count": 29,
   "metadata": {},
   "outputs": [
    {
     "name": "stdout",
     "output_type": "stream",
     "text": [
      "Хорошо\n"
     ]
    }
   ],
   "source": [
    "grade = 7\n",
    "if grade > 7:\n",
    "    print(\"Отлично\")\n",
    "elif grade > 5:\n",
    "    print(\"Хорошо\")\n",
    "elif grade > 3:\n",
    "    print(\"Удовл\")\n",
    "else:\n",
    "    print(\"Плохо\")"
   ]
  },
  {
   "cell_type": "markdown",
   "metadata": {},
   "source": [
    "Блок-схема для такого кода:\n",
    "\n",
    "![title](https://raw.githubusercontent.com/allatambov/PyAll24/main/mark-ex1.png)"
   ]
  },
  {
   "cell_type": "markdown",
   "metadata": {},
   "source": [
    "**Решение 2.** Несколько сложных условий с `if`:"
   ]
  },
  {
   "cell_type": "code",
   "execution_count": 30,
   "metadata": {},
   "outputs": [
    {
     "name": "stdout",
     "output_type": "stream",
     "text": [
      "Хорошо\n"
     ]
    }
   ],
   "source": [
    "grade = 7\n",
    "if grade > 7:\n",
    "    print(\"Отлично\")\n",
    "if (grade > 5) and (grade <= 7):\n",
    "    print(\"Хорошо\")\n",
    "if (grade > 3) and (grade <= 5):\n",
    "    print(\"Удовл\")\n",
    "if grade <= 3:\n",
    "    print(\"Плохо\")"
   ]
  },
  {
   "cell_type": "markdown",
   "metadata": {},
   "source": [
    "Блок-схема для такого кода:\n",
    "\n",
    "![title](https://raw.githubusercontent.com/allatambov/PyAll24/main/mark-ex2.png)"
   ]
  },
  {
   "cell_type": "markdown",
   "metadata": {},
   "source": [
    "Могли бы мы использовать `else` вместо последнего условия с `if`? Давайте проверим!"
   ]
  },
  {
   "cell_type": "code",
   "execution_count": 31,
   "metadata": {},
   "outputs": [
    {
     "name": "stdout",
     "output_type": "stream",
     "text": [
      "Хорошо\n",
      "Плохо\n"
     ]
    }
   ],
   "source": [
    "grade = 7\n",
    "if grade > 7:\n",
    "    print(\"Отлично\")\n",
    "if (grade > 5) and (grade <= 7):\n",
    "    print(\"Хорошо\")\n",
    "if (grade > 3) and (grade <= 5):\n",
    "    print(\"Удовлетворительно\")\n",
    "else:\n",
    "    print(\"Плохо\")  # что-то пошло не так"
   ]
  },
  {
   "cell_type": "markdown",
   "metadata": {},
   "source": [
    "Почему получился такой странный результат? Потому что написанная часть с `else` относится не ко всем условиям с `if` выше, а **только в последнему**. Давайте посмотрим на блок-схему для такого кода:"
   ]
  },
  {
   "cell_type": "markdown",
   "metadata": {},
   "source": [
    "![title](https://raw.githubusercontent.com/allatambov/PyAll24/main/mark-ex3.png)"
   ]
  },
  {
   "cell_type": "markdown",
   "metadata": {},
   "source": [
    "Всё!"
   ]
  }
 ],
 "metadata": {
  "kernelspec": {
   "display_name": "Python 3",
   "language": "python",
   "name": "python3"
  },
  "language_info": {
   "codemirror_mode": {
    "name": "ipython",
    "version": 3
   },
   "file_extension": ".py",
   "mimetype": "text/x-python",
   "name": "python",
   "nbconvert_exporter": "python",
   "pygments_lexer": "ipython3",
   "version": "3.7.4"
  }
 },
 "nbformat": 4,
 "nbformat_minor": 2
}
