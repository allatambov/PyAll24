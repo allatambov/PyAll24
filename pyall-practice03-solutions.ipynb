{
 "cells": [
  {
   "cell_type": "markdown",
   "metadata": {},
   "source": [
    "# Программирование для всех <br>(основы работы с Python)\n",
    "\n",
    "*Разработчик формата сдачи заданий и фабрики автоматических тестов: Щуров И.В.<br> \n",
    "Автор задач: Тамбовцева А.А.*\n",
    "\n",
    "## Практикум 3: функция `zip()` и словари"
   ]
  },
  {
   "cell_type": "code",
   "execution_count": 1,
   "metadata": {},
   "outputs": [],
   "source": [
    "# Фабрика тестов для проверки программ, принимающих данные через input()\n",
    "\n",
    "from collections import deque\n",
    "\n",
    "class Tester(object):\n",
    "    def __init__(self, inp):\n",
    "        self.outputs = []\n",
    "        self.inputs = deque(inp)\n",
    "    def print(self, *args, sep = \" \", end = \"\\n\"):\n",
    "        text = sep.join(map(str, args)) + end\n",
    "        newlines = text.splitlines(keepends=True)\n",
    "        if self.outputs and self.outputs[-1] and self.outputs[-1][-1] != \"\\n\" and newlines:\n",
    "            self.outputs[-1] += newlines[0]\n",
    "            self.outputs.extend(newlines[1:])\n",
    "        else:\n",
    "            self.outputs.extend(newlines)\n",
    "            \n",
    "    def input(self, *args):\n",
    "        assert self.inputs, \"Вы пытаетесь считать больше элементов, чем предусмотрено условием\"\n",
    "        return self.inputs.popleft()\n",
    "    def __enter__(self):\n",
    "        global print\n",
    "        global input\n",
    "        print = self.print\n",
    "        input = self.input\n",
    "        return self.outputs\n",
    "    def __exit__(self, *args):\n",
    "        global print\n",
    "        global input\n",
    "        del print\n",
    "        del input"
   ]
  },
  {
   "cell_type": "markdown",
   "metadata": {},
   "source": [
    "### Задача 1\n",
    "\n",
    "Реализуйте программу, которая фильтрует героев на основе их места проживания:\n",
    "\n",
    "* В переменную `heroes` считывается список, где хранятся имена героев через запятую без пробела (строки).\n",
    "* В переменную `places` считывается список, где хранятся места проживания героев через запятую без пробела (строки). Каждый год соответствует студенту из списка `heroes`.\n",
    "* Гарантируется, что будет введена информация минимум для одного героя.\n",
    "* В переменную `place` считывается строка — место проживания, который нас интересует.\n",
    "* Программа выводит имена героев, которые проживают в месте, указанном в `place`, каждое на новой строке.\n",
    "* Если таких героев нет, то программа ничего не выводит.\n",
    "\n",
    "**Примеры работы программы:**\n",
    "\n",
    "Ввод:\n",
    "\n",
    "    Волк, Красная Шапочка, Бабушка, Мама\n",
    "    Лес, Москва, Париж, Москва\n",
    "    Москва\n",
    "\n",
    "Результат:\n",
    "\n",
    "    Красная Шапочка\n",
    "    Мама\n",
    "    \n",
    "Ввод:\n",
    "\n",
    "    Волк, Красная Шапочка, Бабушка, Айболит\n",
    "    Лес, Москва, Париж, Лес\n",
    "    Лес\n",
    "\n",
    "Результат:\n",
    "\n",
    "    Волк\n",
    "    Айболит\n",
    "    \n",
    "Ввод:\n",
    "\n",
    "    Волк, Красная Шапочка, Бабушка, Айболит\n",
    "    Лес, Москва, Париж, Лес\n",
    "    Лондон\n",
    "\n",
    "Результат:\n",
    "\n",
    "    [ничего не выводится]"
   ]
  },
  {
   "cell_type": "code",
   "execution_count": 2,
   "metadata": {},
   "outputs": [
    {
     "name": "stdout",
     "output_type": "stream",
     "text": [
      "Волк, Красная Шапочка, Бабушка, Айболит\n",
      "Лес, Москва, Париж, Лес\n",
      "Лес\n",
      "Волк\n",
      "Айболит\n"
     ]
    }
   ],
   "source": [
    "heroes = input().split(\", \")\n",
    "places = input().split(\", \")\n",
    "place = input()\n",
    "\n",
    "for hero, mesto in zip(heroes, places):\n",
    "    if mesto == place:\n",
    "        print(hero)"
   ]
  },
  {
   "cell_type": "code",
   "execution_count": 3,
   "metadata": {},
   "outputs": [
    {
     "name": "stdout",
     "output_type": "stream",
     "text": [
      "Волк, Красная Шапочка, Бабушка, Айболит\n",
      "Лес, Москва, Париж, Лес\n",
      "Лес\n",
      "Волк\n",
      "Айболит\n"
     ]
    }
   ],
   "source": [
    "def tale():\n",
    "    \n",
    "    heroes = input().split(\", \")\n",
    "    places = input().split(\", \")\n",
    "    place = input()\n",
    "\n",
    "    for hero, mesto in zip(heroes, places):\n",
    "        if mesto == place:\n",
    "            print(hero)\n",
    "    \n",
    "tale()"
   ]
  },
  {
   "cell_type": "code",
   "execution_count": 4,
   "metadata": {},
   "outputs": [],
   "source": [
    "test_data = [\n",
    "    (\"Волк, Красная Шапочка, Бабушка, Айболит;Лес, Москва, Париж, Лес;Лес\", \n",
    "     [\"Волк\", \"Айболит\"]),\n",
    "    (\"Волк, Красная Шапочка, Бабушка, Мама;Лес, Москва, Париж, Москва;Москва\", \n",
    "     [\"Красная Шапочка\", \"Мама\"]),\n",
    "    (\"Волк, Красная Шапочка, Бабушка, Айболит;Лес, Москва, Париж, Лес;Лондон\", \n",
    "     [])\n",
    "]\n",
    "\n",
    "for inp, out in test_data:\n",
    "    with Tester(inp.split(\";\")) as t:\n",
    "        tale()\n",
    "        line_t = \"\".join(t)\n",
    "        t = line_t.splitlines()\n",
    "        assert len(t) == len(out), \"Неверный ответ\"\n",
    "        for l_test, l_out in zip(t, out):\n",
    "            assert len(l_test.split()) == len(l_out.split()), \"Неверный ответ\"\n",
    "            for el_test, el_out in zip(l_test.split(), l_out.split()):\n",
    "                assert el_test == el_out, \"Неверный ответ\" "
   ]
  },
  {
   "cell_type": "markdown",
   "metadata": {},
   "source": [
    "### Задача 2\n",
    "\n",
    "Дан словарь с названиями разных рептилий:"
   ]
  },
  {
   "cell_type": "code",
   "execution_count": 5,
   "metadata": {},
   "outputs": [],
   "source": [
    "rept = {\"python\" : \" питон\", \n",
    "        \"anaconda\" : \"анаконда\", \n",
    "        \"tortoize\" : \" черепаха\" }"
   ]
  },
  {
   "cell_type": "markdown",
   "metadata": {},
   "source": [
    "* Добавьте в словарь пару \"snake\" – \" змея\".\n",
    "* Исправьте ключ \"tortoize\" на правильный \"tortoise\".\n",
    "* Для всех слов в словаре выведите на экран сообщения вида `Питон по-английски будет python.`"
   ]
  },
  {
   "cell_type": "code",
   "execution_count": 6,
   "metadata": {},
   "outputs": [
    {
     "name": "stdout",
     "output_type": "stream",
     "text": [
      "{'python': ' питон', 'anaconda': 'анаконда', 'tortoize': ' черепаха', 'snake': 'змея'}\n"
     ]
    }
   ],
   "source": [
    "# 1\n",
    "\n",
    "rept.update({\"snake\" : \"змея\"}) # rept[\"snake\"] = \"змея\"\n",
    "print(rept)"
   ]
  },
  {
   "cell_type": "code",
   "execution_count": 7,
   "metadata": {},
   "outputs": [
    {
     "name": "stdout",
     "output_type": "stream",
     "text": [
      "{'python': ' питон', 'anaconda': 'анаконда', 'snake': 'змея', 'tortoise': ' черепаха'}\n"
     ]
    }
   ],
   "source": [
    "# 2\n",
    "\n",
    "old = rept.pop(\"tortoize\")\n",
    "rept[\"tortoise\"] = old\n",
    "print(rept)"
   ]
  },
  {
   "cell_type": "code",
   "execution_count": 8,
   "metadata": {},
   "outputs": [
    {
     "name": "stdout",
     "output_type": "stream",
     "text": [
      "Питон по-английски будет python.\n",
      "Анаконда по-английски будет anaconda.\n",
      "Змея по-английски будет snake.\n",
      "Черепаха по-английски будет tortoise.\n"
     ]
    }
   ],
   "source": [
    "# 3\n",
    "\n",
    "for en, ru in rept.items():\n",
    "    print(f\"{ru.strip().capitalize()} по-английски будет {en}.\")"
   ]
  },
  {
   "cell_type": "markdown",
   "metadata": {},
   "source": [
    "### Задача 3\n",
    "\n",
    "В списке `cnt` хранятся названия стран, а в списке `fh` – значения индекса Freedom House для этих стран. Создайте словарь, используя в качестве ключей названия стран, а в качестве значений – значения индекса."
   ]
  },
  {
   "cell_type": "code",
   "execution_count": 9,
   "metadata": {},
   "outputs": [],
   "source": [
    "cnt = [\"Andorra\", \"Belarus\", \"Denmark\", \n",
    "       \"Kenya\", \"Jamaica\", \"Romania\"]\n",
    "fh = [1.0, 6.0, 1.0, 4.0, 2.5, 2.0]"
   ]
  },
  {
   "cell_type": "code",
   "execution_count": 10,
   "metadata": {},
   "outputs": [
    {
     "data": {
      "text/plain": [
       "[('Andorra', 1.0),\n",
       " ('Belarus', 6.0),\n",
       " ('Denmark', 1.0),\n",
       " ('Kenya', 4.0),\n",
       " ('Jamaica', 2.5),\n",
       " ('Romania', 2.0)]"
      ]
     },
     "execution_count": 10,
     "metadata": {},
     "output_type": "execute_result"
    }
   ],
   "source": [
    "list(zip(cnt, fh))"
   ]
  },
  {
   "cell_type": "code",
   "execution_count": 11,
   "metadata": {},
   "outputs": [
    {
     "name": "stdout",
     "output_type": "stream",
     "text": [
      "{'Andorra': 1.0, 'Belarus': 6.0, 'Denmark': 1.0, 'Kenya': 4.0, 'Jamaica': 2.5, 'Romania': 2.0}\n"
     ]
    }
   ],
   "source": [
    "D = dict(zip(cnt, fh))\n",
    "print(D)"
   ]
  },
  {
   "cell_type": "markdown",
   "metadata": {},
   "source": [
    "### Задача 4\n",
    "\n",
    "Дан словарь `grades` с оценками студентов за контрольную работу в 5-балльной шкале. Напишите код, который сделает следующее:\n",
    "\n",
    "* Выведет на экран имя каждого студента и его оценку (каждый студент – с новой строки).\n",
    "* Сохранит имена студентов, получивших отличные оценки, в список `excel`.\n",
    "* Сохранит имена студентов, получивших хорошие оценки, в список `good`.\n",
    "* Сохранит имена студентов, получивших удовлетворительные оценки, в список `satisf`.\n",
    "* Сохранит имена студентов, получивших плохие оценки, в список `bad`."
   ]
  },
  {
   "cell_type": "code",
   "execution_count": 12,
   "metadata": {},
   "outputs": [],
   "source": [
    "grades = {'Anna': 4, 'Bob': 3, 'Claire': 5, 'Dick': 2, 'Elena': 5, \n",
    "         'Fred': 5, 'George': 4, 'Kristina': 3, 'Nick': 2, \n",
    "         'Ursula': 4, 'Viktor': 5}"
   ]
  },
  {
   "cell_type": "code",
   "execution_count": 13,
   "metadata": {},
   "outputs": [
    {
     "name": "stdout",
     "output_type": "stream",
     "text": [
      "Anna 4\n",
      "Bob 3\n",
      "Claire 5\n",
      "Dick 2\n",
      "Elena 5\n",
      "Fred 5\n",
      "George 4\n",
      "Kristina 3\n",
      "Nick 2\n",
      "Ursula 4\n",
      "Viktor 5\n"
     ]
    }
   ],
   "source": [
    "excel = []\n",
    "good = []\n",
    "satisf = []\n",
    "bad = []\n",
    "\n",
    "for name, grade in grades.items():\n",
    "    print(name, grade)\n",
    "    if grade == 5:\n",
    "        excel.append(name)\n",
    "    elif grade == 4:\n",
    "        good.append(name)\n",
    "    elif grade == 3:\n",
    "        satisf.append(name)\n",
    "    else:\n",
    "        bad.append(name)"
   ]
  },
  {
   "cell_type": "code",
   "execution_count": 14,
   "metadata": {},
   "outputs": [
    {
     "name": "stdout",
     "output_type": "stream",
     "text": [
      "['Claire', 'Elena', 'Fred', 'Viktor']\n",
      "['Anna', 'George', 'Ursula']\n",
      "['Bob', 'Kristina']\n",
      "['Dick', 'Nick']\n"
     ]
    }
   ],
   "source": [
    "print(excel)\n",
    "print(good)\n",
    "print(satisf)\n",
    "print(bad)"
   ]
  },
  {
   "cell_type": "markdown",
   "metadata": {},
   "source": [
    "### Задача 5\n",
    "\n",
    "Дан список, состоящий из пар чисел:\n",
    "\n",
    "    pairs = [(2, 4), (4, 6), (0, 1), (5, 2), (9, 1), (3, 8)]\n",
    "\n",
    "Создайте словарь `calc`, где ключами являются пары чисел, а значениями – их произведение (произведение тоже должно считаться в Python, не в уме)."
   ]
  },
  {
   "cell_type": "code",
   "execution_count": 15,
   "metadata": {},
   "outputs": [],
   "source": [
    "pairs = [(2, 4), (4, 6), (0, 1), (5, 2), (9, 1), (3, 8)]"
   ]
  },
  {
   "cell_type": "code",
   "execution_count": 16,
   "metadata": {},
   "outputs": [
    {
     "name": "stdout",
     "output_type": "stream",
     "text": [
      "{(2, 4): 8, (4, 6): 24, (0, 1): 0, (5, 2): 10, (9, 1): 9, (3, 8): 24}\n"
     ]
    }
   ],
   "source": [
    "calc = {}\n",
    "for p in pairs:\n",
    "    calc[p] = p[0] * p[1]\n",
    "print(calc)"
   ]
  },
  {
   "cell_type": "markdown",
   "metadata": {},
   "source": [
    "**Важно:** если бы вместо списка кортежей у нас был бы список списков, у нас бы ничего не получилось, так как словарь может хранить ключи только неизменяемых типов, а список (тип `list`) – изменяемый!"
   ]
  },
  {
   "cell_type": "code",
   "execution_count": 17,
   "metadata": {},
   "outputs": [],
   "source": [
    "# сейчас все сломается, вот увидите\n",
    "\n",
    "pairs = [[2, 4], [4, 6], [0, 1], [5, 2],[9, 1], [3, 8]]"
   ]
  },
  {
   "cell_type": "code",
   "execution_count": 18,
   "metadata": {},
   "outputs": [
    {
     "ename": "TypeError",
     "evalue": "unhashable type: 'list'",
     "output_type": "error",
     "traceback": [
      "\u001b[0;31m---------------------------------------------------------------------------\u001b[0m",
      "\u001b[0;31mTypeError\u001b[0m                                 Traceback (most recent call last)",
      "\u001b[0;32m<ipython-input-18-1bafdbe3b495>\u001b[0m in \u001b[0;36m<module>\u001b[0;34m\u001b[0m\n\u001b[1;32m      1\u001b[0m \u001b[0mcalc\u001b[0m \u001b[0;34m=\u001b[0m \u001b[0;34m{\u001b[0m\u001b[0;34m}\u001b[0m\u001b[0;34m\u001b[0m\u001b[0;34m\u001b[0m\u001b[0m\n\u001b[1;32m      2\u001b[0m \u001b[0;32mfor\u001b[0m \u001b[0mp\u001b[0m \u001b[0;32min\u001b[0m \u001b[0mpairs\u001b[0m\u001b[0;34m:\u001b[0m\u001b[0;34m\u001b[0m\u001b[0;34m\u001b[0m\u001b[0m\n\u001b[0;32m----> 3\u001b[0;31m     \u001b[0mcalc\u001b[0m\u001b[0;34m[\u001b[0m\u001b[0mp\u001b[0m\u001b[0;34m]\u001b[0m \u001b[0;34m=\u001b[0m \u001b[0mp\u001b[0m\u001b[0;34m[\u001b[0m\u001b[0;36m0\u001b[0m\u001b[0;34m]\u001b[0m \u001b[0;34m*\u001b[0m \u001b[0mp\u001b[0m\u001b[0;34m[\u001b[0m\u001b[0;36m1\u001b[0m\u001b[0;34m]\u001b[0m\u001b[0;34m\u001b[0m\u001b[0;34m\u001b[0m\u001b[0m\n\u001b[0m\u001b[1;32m      4\u001b[0m \u001b[0mprint\u001b[0m\u001b[0;34m(\u001b[0m\u001b[0mcalc\u001b[0m\u001b[0;34m)\u001b[0m\u001b[0;34m\u001b[0m\u001b[0;34m\u001b[0m\u001b[0m\n",
      "\u001b[0;31mTypeError\u001b[0m: unhashable type: 'list'"
     ]
    }
   ],
   "source": [
    "calc = {}\n",
    "for p in pairs:\n",
    "    calc[p] = p[0] * p[1]\n",
    "print(calc)"
   ]
  }
 ],
 "metadata": {
  "kernelspec": {
   "display_name": "Python 3",
   "language": "python",
   "name": "python3"
  },
  "language_info": {
   "codemirror_mode": {
    "name": "ipython",
    "version": 3
   },
   "file_extension": ".py",
   "mimetype": "text/x-python",
   "name": "python",
   "nbconvert_exporter": "python",
   "pygments_lexer": "ipython3",
   "version": "3.7.4"
  }
 },
 "nbformat": 4,
 "nbformat_minor": 2
}
