{
 "cells": [
  {
   "cell_type": "markdown",
   "metadata": {
    "id": "o7l7RJCTj7LG"
   },
   "source": [
    "# Программирование для всех (основы Python)\n",
    "\n",
    "*Алла Тамбовцева*\n",
    "\n",
    "## Введение в парсинг с BeautifulSoup: поиск по тэгам"
   ]
  },
  {
   "cell_type": "markdown",
   "metadata": {
    "id": "xJfkYrNYj7LK"
   },
   "source": [
    "Импортируем необходимые библиотеки. Нам понадобится модуль `requests` для отправки запросов, для «подключения» к странице и получения её содержимого в виде строки, и функция `BeautifulSoup` из библиотеки `bs4` для удобного поиска по полученной строке:"
   ]
  },
  {
   "cell_type": "code",
   "execution_count": 1,
   "metadata": {
    "id": "utJwKve2j7LK"
   },
   "outputs": [],
   "source": [
    "import requests\n",
    "from bs4 import BeautifulSoup"
   ]
  },
  {
   "cell_type": "markdown",
   "metadata": {
    "id": "jocA_e7Jj7LL"
   },
   "source": [
    "Модуль `requests` является базовым, его не нужно устанавливать отдельно, библиотека `bs4` таковой не является. Если вы не устанавливали Anaconda, скорее всего, на строку `from bs4 import BeautifulSoup` Python выдаст сообщение, что модуль не найден, поэтому его нужно будет установить (если ошибок при импорте нет, не запускайте следующую ячейку):"
   ]
  },
  {
   "cell_type": "code",
   "execution_count": null,
   "metadata": {},
   "outputs": [],
   "source": [
    "!pip install bs4"
   ]
  },
  {
   "cell_type": "markdown",
   "metadata": {
    "id": "StqxshAbj7LM"
   },
   "source": [
    "Подключаемся к странице сайта с материалами [math-info.hse.ru](http://math-info.hse.ru):"
   ]
  },
  {
   "cell_type": "code",
   "execution_count": 2,
   "metadata": {
    "id": "abn4B9Qgj7LM"
   },
   "outputs": [],
   "source": [
    "page = requests.get(\"http://math-info.hse.ru/2023-24\")"
   ]
  },
  {
   "cell_type": "code",
   "execution_count": 3,
   "metadata": {
    "colab": {
     "base_uri": "https://localhost:8080/"
    },
    "id": "0TrmbvJGj7LM",
    "outputId": "fe911822-7424-4ddb-c2bc-5615900aafe9"
   },
   "outputs": [
    {
     "data": {
      "text/plain": [
       "<Response [404]>"
      ]
     },
     "execution_count": 3,
     "metadata": {},
     "output_type": "execute_result"
    }
   ],
   "source": [
    "page"
   ]
  },
  {
   "cell_type": "markdown",
   "metadata": {
    "id": "PiVuMYE9j7LN"
   },
   "source": [
    "Объект, который мы сохранили в `page`, имеет особый тип *request*, он же запрос. Из него можно извлечь исходный код страницы в виде обычного текста (тип *string*). Однако в нашем случае мы этого сделать не сможем, потому что в ответ на запрос мы получили результат с кодом 404. Известная ошибка, которая возникает тогда, когда ссылка ведёт вникуда. Исправляемся – добавляем слэш в конце ссылки, в данном случае это важно:"
   ]
  },
  {
   "cell_type": "code",
   "execution_count": 4,
   "metadata": {
    "colab": {
     "base_uri": "https://localhost:8080/"
    },
    "id": "ohP4XhTKj7LO",
    "outputId": "e966d3c6-3b90-45d6-d018-97446fe082db"
   },
   "outputs": [
    {
     "data": {
      "text/plain": [
       "<Response [200]>"
      ]
     },
     "execution_count": 4,
     "metadata": {},
     "output_type": "execute_result"
    }
   ],
   "source": [
    "page = requests.get(\"http://math-info.hse.ru/2023-24/\")\n",
    "page"
   ]
  },
  {
   "cell_type": "markdown",
   "metadata": {
    "id": "FdRGzavWj7LO"
   },
   "source": [
    "Теперь код 200, это означает, что запрос был благополучно отправлен и на него был получен ответ. Извлечём из полученного ответа код HTML в виде обычной строки:"
   ]
  },
  {
   "cell_type": "code",
   "execution_count": null,
   "metadata": {
    "id": "jidqluzZj7LO"
   },
   "outputs": [],
   "source": [
    "# page.text"
   ]
  },
  {
   "cell_type": "markdown",
   "metadata": {
    "id": "XkaRv8NFj7LO"
   },
   "source": [
    "Выполнять поиск по такой строке с тэгами не очень удобно (даже если вы знакомы с регулярными выражениями), поэтому преобразуем строку в объект типа `BeautifulSoup`. Такой объект внешне несильно отличается от обычной строки, однако внутри по структуре похож на словарь, и это сходство значительно упрощает поиск по тэгам и атрибутам."
   ]
  },
  {
   "cell_type": "code",
   "execution_count": 5,
   "metadata": {
    "id": "ZkFzoRZrj7LP"
   },
   "outputs": [],
   "source": [
    "soup = BeautifulSoup(page.text)"
   ]
  },
  {
   "cell_type": "code",
   "execution_count": null,
   "metadata": {
    "id": "Ytc5E-Fmj7LP"
   },
   "outputs": [],
   "source": [
    "# внешне то же самое, что и ранее\n",
    "# soup"
   ]
  },
  {
   "cell_type": "markdown",
   "metadata": {
    "id": "1TsT3Ri2j7LP"
   },
   "source": [
    "На объектах `BeautifulSoup` определены методы `.find()` и `.find_all()`. Оба метода возвращают фрагменты кода HTML, которые соответствуют критериям поиска, различие заключается в том, что метод `.find()` предназначен для поиска одного совпадения (если критериям поиска соответствует несколько элементов на странице, то берётся только первый), а метод `.find_all()` – для поиска всех совпадений. В первом случае результат возвращается в виде одного элемента типа `BeautifulSoup`, а во втором – в виде списка таких элементов. Давайте попробуем что-то поискать!\n",
    "\n",
    "Найдём сначала заголовок первого уровня – он здесь точно один (тэг `<h1>`):"
   ]
  },
  {
   "cell_type": "code",
   "execution_count": 6,
   "metadata": {
    "colab": {
     "base_uri": "https://localhost:8080/"
    },
    "id": "A3z0N54Cj7LQ",
    "outputId": "fbf9097c-b0f8-43ad-ba6f-39256b674425"
   },
   "outputs": [
    {
     "data": {
      "text/plain": [
       "<h1 class=\"firstHeading\" id=\"firstHeading\" lang=\"ru\">Заглавная страница</h1>"
      ]
     },
     "execution_count": 6,
     "metadata": {},
     "output_type": "execute_result"
    }
   ],
   "source": [
    "soup.find(\"h1\")"
   ]
  },
  {
   "cell_type": "markdown",
   "metadata": {
    "id": "TQtHdPF3j7LQ"
   },
   "source": [
    "Результат – фрагмент кода HTML со всеми тэгами. Как получить «чистый» текст? Запросить текст с помощью атрибута `.text`:"
   ]
  },
  {
   "cell_type": "code",
   "execution_count": 7,
   "metadata": {
    "colab": {
     "base_uri": "https://localhost:8080/",
     "height": 35
    },
    "id": "GLJoXDjlj7LQ",
    "outputId": "1d3056a8-f3a6-46df-dccf-53ae991e53f4"
   },
   "outputs": [
    {
     "data": {
      "text/plain": [
       "'Заглавная страница'"
      ]
     },
     "execution_count": 7,
     "metadata": {},
     "output_type": "execute_result"
    }
   ],
   "source": [
    "soup.find(\"h1\").text"
   ]
  },
  {
   "cell_type": "markdown",
   "metadata": {},
   "source": [
    "Как забрать значение какого-нибудь атрибута выше, например, значение `ru` из `lang`? Воспользоваться тем, что содержимое тэга в `BeautifulSoup` по структуре похоже на словарь. То есть, содержимое тэга `<h1>` выше – это «доработанный» словарь вида\n",
    "\n",
    "    {\"class\" : \"firstHeading\",\n",
    "    \"id\" : \"firstHeading\",\n",
    "    \"lang\" : \"ru\"}.\n",
    "    \n",
    "А записи из словаря мы умеем извлекать. Либо по ключу в квадратных скобках:"
   ]
  },
  {
   "cell_type": "code",
   "execution_count": 8,
   "metadata": {},
   "outputs": [
    {
     "data": {
      "text/plain": [
       "'ru'"
      ]
     },
     "execution_count": 8,
     "metadata": {},
     "output_type": "execute_result"
    }
   ],
   "source": [
    "soup.find(\"h1\")[\"lang\"]"
   ]
  },
  {
   "cell_type": "markdown",
   "metadata": {},
   "source": [
    "Либо (более универсально, на случай, чтобы код не выдавал `KeyError`, если такого атрибута не существует) через метод `.get()`:"
   ]
  },
  {
   "cell_type": "code",
   "execution_count": 9,
   "metadata": {},
   "outputs": [
    {
     "data": {
      "text/plain": [
       "'ru'"
      ]
     },
     "execution_count": 9,
     "metadata": {},
     "output_type": "execute_result"
    }
   ],
   "source": [
    "soup.find(\"h1\").get(\"lang\")"
   ]
  },
  {
   "cell_type": "markdown",
   "metadata": {
    "id": "2FCrcQuPj7LR"
   },
   "source": [
    "Теперь найдём все заголовки второго уровня:"
   ]
  },
  {
   "cell_type": "code",
   "execution_count": 10,
   "metadata": {
    "colab": {
     "base_uri": "https://localhost:8080/"
    },
    "id": "Y1VyZTJ_j7LR",
    "outputId": "7307de99-d092-40c7-fcfe-b685f7a0a095"
   },
   "outputs": [
    {
     "data": {
      "text/plain": [
       "[<h2>Содержание</h2>,\n",
       " <h2><span id=\"Школа_лингвистики\"></span><span class=\"mw-headline\" id=\".D0.A8.D0.BA.D0.BE.D0.BB.D0.B0_.D0.BB.D0.B8.D0.BD.D0.B3.D0.B2.D0.B8.D1.81.D1.82.D0.B8.D0.BA.D0.B8\">Школа лингвистики</span></h2>,\n",
       " <h2><span id=\"ОП_Политология\"></span><span class=\"mw-headline\" id=\".D0.9E.D0.9F_.D0.9F.D0.BE.D0.BB.D0.B8.D1.82.D0.BE.D0.BB.D0.BE.D0.B3.D0.B8.D1.8F\">ОП Политология</span></h2>,\n",
       " <h2><span id=\"Вычислительные_социальные_науки\"></span><span class=\"mw-headline\" id=\".D0.92.D1.8B.D1.87.D0.B8.D1.81.D0.BB.D0.B8.D1.82.D0.B5.D0.BB.D1.8C.D0.BD.D1.8B.D0.B5_.D1.81.D0.BE.D1.86.D0.B8.D0.B0.D0.BB.D1.8C.D0.BD.D1.8B.D0.B5_.D0.BD.D0.B0.D1.83.D0.BA.D0.B8\">Вычислительные социальные науки</span></h2>,\n",
       " <h2><span id=\"Факультет_креативных_индустрий\"></span><span class=\"mw-headline\" id=\".D0.A4.D0.B0.D0.BA.D1.83.D0.BB.D1.8C.D1.82.D0.B5.D1.82_.D0.BA.D1.80.D0.B5.D0.B0.D1.82.D0.B8.D0.B2.D0.BD.D1.8B.D1.85_.D0.B8.D0.BD.D0.B4.D1.83.D1.81.D1.82.D1.80.D0.B8.D0.B9\">Факультет креативных индустрий</span></h2>,\n",
       " <h2><span id=\"ОП_социология\"></span><span class=\"mw-headline\" id=\".D0.9E.D0.9F_.D1.81.D0.BE.D1.86.D0.B8.D0.BE.D0.BB.D0.BE.D0.B3.D0.B8.D1.8F\">ОП социология</span></h2>,\n",
       " <h2><span id=\"ОП_Психология\"></span><span class=\"mw-headline\" id=\".D0.9E.D0.9F_.D0.9F.D1.81.D0.B8.D1.85.D0.BE.D0.BB.D0.BE.D0.B3.D0.B8.D1.8F\">ОП Психология</span></h2>,\n",
       " <h2><span id=\"МИЭФ\"></span><span class=\"mw-headline\" id=\".D0.9C.D0.98.D0.AD.D0.A4\">МИЭФ</span></h2>,\n",
       " <h2><span id=\"Разработка_информационных_систем_для_бизнеса_(Пермь)\"></span><span class=\"mw-headline\" id=\".D0.A0.D0.B0.D0.B7.D1.80.D0.B0.D0.B1.D0.BE.D1.82.D0.BA.D0.B0_.D0.B8.D0.BD.D1.84.D0.BE.D1.80.D0.BC.D0.B0.D1.86.D0.B8.D0.BE.D0.BD.D0.BD.D1.8B.D1.85_.D1.81.D0.B8.D1.81.D1.82.D0.B5.D0.BC_.D0.B4.D0.BB.D1.8F_.D0.B1.D0.B8.D0.B7.D0.BD.D0.B5.D1.81.D0.B0_.28.D0.9F.D0.B5.D1.80.D0.BC.D1.8C.29\">Разработка информационных систем для бизнеса (Пермь)</span></h2>,\n",
       " <h2>Навигация</h2>]"
      ]
     },
     "execution_count": 10,
     "metadata": {},
     "output_type": "execute_result"
    }
   ],
   "source": [
    "soup.find_all(\"h2\")"
   ]
  },
  {
   "cell_type": "markdown",
   "metadata": {
    "id": "d8H31HgDj7LR"
   },
   "source": [
    "Сохраним полученный список с названием `h2` и поработаем с ним (и не только)!"
   ]
  },
  {
   "cell_type": "code",
   "execution_count": 11,
   "metadata": {
    "id": "PER7Z_Bcj7LS"
   },
   "outputs": [],
   "source": [
    "h2 = soup.find_all(\"h2\")"
   ]
  },
  {
   "cell_type": "markdown",
   "metadata": {
    "id": "PPofTNpxj7LS"
   },
   "source": [
    "### Задача 1"
   ]
  },
  {
   "cell_type": "markdown",
   "metadata": {
    "id": "jofHPl3mj7LS"
   },
   "source": [
    "Сохраните в новый список `hh` только названия образовательных программ или факультетов/школ, то есть все элементы списка `h2`, кроме первого и последнего."
   ]
  },
  {
   "cell_type": "code",
   "execution_count": 12,
   "metadata": {
    "colab": {
     "base_uri": "https://localhost:8080/"
    },
    "id": "PUzWqh3zj7LS",
    "outputId": "a745e286-aa89-4203-c660-3ad6a5359ba4"
   },
   "outputs": [
    {
     "name": "stdout",
     "output_type": "stream",
     "text": [
      "[<h2><span id=\"Школа_лингвистики\"></span><span class=\"mw-headline\" id=\".D0.A8.D0.BA.D0.BE.D0.BB.D0.B0_.D0.BB.D0.B8.D0.BD.D0.B3.D0.B2.D0.B8.D1.81.D1.82.D0.B8.D0.BA.D0.B8\">Школа лингвистики</span></h2>, <h2><span id=\"ОП_Политология\"></span><span class=\"mw-headline\" id=\".D0.9E.D0.9F_.D0.9F.D0.BE.D0.BB.D0.B8.D1.82.D0.BE.D0.BB.D0.BE.D0.B3.D0.B8.D1.8F\">ОП Политология</span></h2>, <h2><span id=\"Вычислительные_социальные_науки\"></span><span class=\"mw-headline\" id=\".D0.92.D1.8B.D1.87.D0.B8.D1.81.D0.BB.D0.B8.D1.82.D0.B5.D0.BB.D1.8C.D0.BD.D1.8B.D0.B5_.D1.81.D0.BE.D1.86.D0.B8.D0.B0.D0.BB.D1.8C.D0.BD.D1.8B.D0.B5_.D0.BD.D0.B0.D1.83.D0.BA.D0.B8\">Вычислительные социальные науки</span></h2>, <h2><span id=\"Факультет_креативных_индустрий\"></span><span class=\"mw-headline\" id=\".D0.A4.D0.B0.D0.BA.D1.83.D0.BB.D1.8C.D1.82.D0.B5.D1.82_.D0.BA.D1.80.D0.B5.D0.B0.D1.82.D0.B8.D0.B2.D0.BD.D1.8B.D1.85_.D0.B8.D0.BD.D0.B4.D1.83.D1.81.D1.82.D1.80.D0.B8.D0.B9\">Факультет креативных индустрий</span></h2>, <h2><span id=\"ОП_социология\"></span><span class=\"mw-headline\" id=\".D0.9E.D0.9F_.D1.81.D0.BE.D1.86.D0.B8.D0.BE.D0.BB.D0.BE.D0.B3.D0.B8.D1.8F\">ОП социология</span></h2>, <h2><span id=\"ОП_Психология\"></span><span class=\"mw-headline\" id=\".D0.9E.D0.9F_.D0.9F.D1.81.D0.B8.D1.85.D0.BE.D0.BB.D0.BE.D0.B3.D0.B8.D1.8F\">ОП Психология</span></h2>, <h2><span id=\"МИЭФ\"></span><span class=\"mw-headline\" id=\".D0.9C.D0.98.D0.AD.D0.A4\">МИЭФ</span></h2>, <h2><span id=\"Разработка_информационных_систем_для_бизнеса_(Пермь)\"></span><span class=\"mw-headline\" id=\".D0.A0.D0.B0.D0.B7.D1.80.D0.B0.D0.B1.D0.BE.D1.82.D0.BA.D0.B0_.D0.B8.D0.BD.D1.84.D0.BE.D1.80.D0.BC.D0.B0.D1.86.D0.B8.D0.BE.D0.BD.D0.BD.D1.8B.D1.85_.D1.81.D0.B8.D1.81.D1.82.D0.B5.D0.BC_.D0.B4.D0.BB.D1.8F_.D0.B1.D0.B8.D0.B7.D0.BD.D0.B5.D1.81.D0.B0_.28.D0.9F.D0.B5.D1.80.D0.BC.D1.8C.29\">Разработка информационных систем для бизнеса (Пермь)</span></h2>]\n"
     ]
    }
   ],
   "source": [
    "hh = h2[1:-1]\n",
    "print(hh)"
   ]
  },
  {
   "cell_type": "markdown",
   "metadata": {
    "id": "ITrSdsnmj7LS"
   },
   "source": [
    "### Задача 2"
   ]
  },
  {
   "cell_type": "markdown",
   "metadata": {
    "id": "kATmTtsbj7LT"
   },
   "source": [
    "Извлеките из каждого элемента списка `hh` текст и сохраните полученные названия программ/факультетов/школ в список `headers`."
   ]
  },
  {
   "cell_type": "code",
   "execution_count": 13,
   "metadata": {
    "colab": {
     "base_uri": "https://localhost:8080/"
    },
    "id": "JDzwUfY3j7LT",
    "outputId": "b23acf83-b060-4c33-c0c9-c01be7a96baa"
   },
   "outputs": [
    {
     "name": "stdout",
     "output_type": "stream",
     "text": [
      "['Школа лингвистики', 'ОП Политология', 'Вычислительные социальные науки', 'Факультет креативных индустрий', 'ОП социология', 'ОП Психология', 'МИЭФ', 'Разработка информационных систем для бизнеса (Пермь)']\n"
     ]
    }
   ],
   "source": [
    "# с циклом\n",
    "headers = []\n",
    "for h in hh:\n",
    "    headers.append(h.text)\n",
    "print(headers)"
   ]
  },
  {
   "cell_type": "code",
   "execution_count": 14,
   "metadata": {
    "colab": {
     "base_uri": "https://localhost:8080/"
    },
    "id": "Atq12Ovyj7LT",
    "outputId": "e4a5fc39-7b96-481c-e9eb-69b484249075"
   },
   "outputs": [
    {
     "name": "stdout",
     "output_type": "stream",
     "text": [
      "['Школа лингвистики', 'ОП Политология', 'Вычислительные социальные науки', 'Факультет креативных индустрий', 'ОП социология', 'ОП Психология', 'МИЭФ', 'Разработка информационных систем для бизнеса (Пермь)']\n"
     ]
    }
   ],
   "source": [
    "# со списковым включением\n",
    "headers = [h.text for h in hh]\n",
    "print(headers)"
   ]
  },
  {
   "cell_type": "markdown",
   "metadata": {
    "id": "-FaHEiNQj7LU"
   },
   "source": [
    "### Задача 3"
   ]
  },
  {
   "cell_type": "markdown",
   "metadata": {
    "id": "_6GjnZswj7LU"
   },
   "source": [
    "Найдите на странице список курсов ОП «Политология» (их просто больше всего) и сохраните его в переменную `polit`."
   ]
  },
  {
   "cell_type": "code",
   "execution_count": 15,
   "metadata": {
    "id": "HphHoysxj7LU"
   },
   "outputs": [],
   "source": [
    "# находим все ненумерованные списки и берем третий\n",
    "polit = soup.find_all(\"ul\")[2]"
   ]
  },
  {
   "cell_type": "markdown",
   "metadata": {
    "id": "mFFm3TMej7LU"
   },
   "source": [
    "### Задача 4"
   ]
  },
  {
   "cell_type": "markdown",
   "metadata": {
    "id": "f9u_Zl9mj7LU"
   },
   "source": [
    "Используя `polit`, получите список названий курсов и назовите его `names`."
   ]
  },
  {
   "cell_type": "code",
   "execution_count": 16,
   "metadata": {
    "colab": {
     "base_uri": "https://localhost:8080/"
    },
    "id": "M8VCXoXsj7LU",
    "outputId": "0c95d721-864e-4cdd-8c33-197f5cfd1417"
   },
   "outputs": [
    {
     "name": "stdout",
     "output_type": "stream",
     "text": [
      "['Высшая математика (1 курс)', 'Введение в регрессионный анализ (2 курс)', 'Основы анализа данных в Python (3 курс)', 'Программирование для всех (основы Python) (1 курс магистратуры)', 'Введение в теорию вероятностей и математическую статистику (1 курс)', 'Программирование для всех: продолжение (1 курс магистратуры)']\n"
     ]
    }
   ],
   "source": [
    "# элементы списка с тэгами\n",
    "courses = polit.find_all(\"li\")\n",
    "\n",
    "# извлекаем текст из каждого элемента\n",
    "names = [c.text for c in courses]\n",
    "print(names)"
   ]
  },
  {
   "cell_type": "markdown",
   "metadata": {
    "id": "sJ2qAA0aj7LV"
   },
   "source": [
    "### Задача 5"
   ]
  },
  {
   "cell_type": "markdown",
   "metadata": {},
   "source": [
    "Получите список ссылок на страницы курсов, названия которых сохранены в `names`, и назовите его `links`. "
   ]
  },
  {
   "cell_type": "code",
   "execution_count": 17,
   "metadata": {},
   "outputs": [
    {
     "data": {
      "text/plain": [
       "'/2023-24/%D0%92%D1%8B%D1%81%D1%88%D0%B0%D1%8F_%D0%BC%D0%B0%D1%82%D0%B5%D0%BC%D0%B0%D1%82%D0%B8%D0%BA%D0%B0'"
      ]
     },
     "execution_count": 17,
     "metadata": {},
     "output_type": "execute_result"
    }
   ],
   "source": [
    "# пример извлечения одной ссылки\n",
    "courses[0].find(\"a\").get(\"href\")"
   ]
  },
  {
   "cell_type": "code",
   "execution_count": 18,
   "metadata": {},
   "outputs": [
    {
     "name": "stdout",
     "output_type": "stream",
     "text": [
      "['/2023-24/%D0%92%D1%8B%D1%81%D1%88%D0%B0%D1%8F_%D0%BC%D0%B0%D1%82%D0%B5%D0%BC%D0%B0%D1%82%D0%B8%D0%BA%D0%B0', '/2023-24/%D0%92%D0%B2%D0%B5%D0%B4%D0%B5%D0%BD%D0%B8%D0%B5_%D0%B2_%D1%80%D0%B5%D0%B3%D1%80%D0%B5%D1%81%D1%81%D0%B8%D0%BE%D0%BD%D0%BD%D1%8B%D0%B9_%D0%B0%D0%BD%D0%B0%D0%BB%D0%B8%D0%B7', '/2023-24/%D0%9E%D1%81%D0%BD%D0%BE%D0%B2%D1%8B_%D0%B0%D0%BD%D0%B0%D0%BB%D0%B8%D0%B7%D0%B0_%D0%B4%D0%B0%D0%BD%D0%BD%D1%8B%D1%85_%D0%B2_Python', '/2023-24/%D0%9F%D1%80%D0%BE%D0%B3%D1%80%D0%B0%D0%BC%D0%BC%D0%B8%D1%80%D0%BE%D0%B2%D0%B0%D0%BD%D0%B8%D0%B5_%D0%B4%D0%BB%D1%8F_%D0%B2%D1%81%D0%B5%D1%85_(%D0%BE%D1%81%D0%BD%D0%BE%D0%B2%D1%8B_Python)', '/2023-24/%D0%92%D0%B2%D0%B5%D0%B4%D0%B5%D0%BD%D0%B8%D0%B5_%D0%B2_%D1%82%D0%B5%D0%BE%D1%80%D0%B8%D1%8E_%D0%B2%D0%B5%D1%80%D0%BE%D1%8F%D1%82%D0%BD%D0%BE%D1%81%D1%82%D0%B5%D0%B9_%D0%B8_%D0%BC%D0%B0%D1%82%D0%B5%D0%BC%D0%B0%D1%82%D0%B8%D1%87%D0%B5%D1%81%D0%BA%D1%83%D1%8E_%D1%81%D1%82%D0%B0%D1%82%D0%B8%D1%81%D1%82%D0%B8%D0%BA%D1%83', '/2023-24/%D0%9F%D1%80%D0%BE%D0%B3%D1%80%D0%B0%D0%BC%D0%BC%D0%B8%D1%80%D0%BE%D0%B2%D0%B0%D0%BD%D0%B8%D0%B5_%D0%B4%D0%BB%D1%8F_%D0%B2%D1%81%D0%B5%D1%85:_%D0%BF%D1%80%D0%BE%D0%B4%D0%BE%D0%BB%D0%B6%D0%B5%D0%BD%D0%B8%D0%B5']\n"
     ]
    }
   ],
   "source": [
    "# извлекаем все ссылки в цикле\n",
    "links = [c.find(\"a\").get(\"href\") for c in courses]\n",
    "print(links)"
   ]
  },
  {
   "cell_type": "markdown",
   "metadata": {},
   "source": [
    "### Задача 6\n",
    "\n",
    "Создайте список полных кликабельных ссылок (начинающихся с `http://math-info.hse.ru`) и назовите его `full_links`."
   ]
  },
  {
   "cell_type": "code",
   "execution_count": 19,
   "metadata": {},
   "outputs": [],
   "source": [
    "# доклеиваем к каждой относительной ссылке в links\n",
    "# начало http://math-info.hse.ru\n",
    "\n",
    "full_links = [\"http://math-info.hse.ru\" + url for url in links]"
   ]
  },
  {
   "cell_type": "code",
   "execution_count": 20,
   "metadata": {},
   "outputs": [
    {
     "name": "stdout",
     "output_type": "stream",
     "text": [
      "http://math-info.hse.ru/2023-24/%D0%92%D1%8B%D1%81%D1%88%D0%B0%D1%8F_%D0%BC%D0%B0%D1%82%D0%B5%D0%BC%D0%B0%D1%82%D0%B8%D0%BA%D0%B0\n",
      "http://math-info.hse.ru/2023-24/%D0%92%D0%B2%D0%B5%D0%B4%D0%B5%D0%BD%D0%B8%D0%B5_%D0%B2_%D1%80%D0%B5%D0%B3%D1%80%D0%B5%D1%81%D1%81%D0%B8%D0%BE%D0%BD%D0%BD%D1%8B%D0%B9_%D0%B0%D0%BD%D0%B0%D0%BB%D0%B8%D0%B7\n",
      "http://math-info.hse.ru/2023-24/%D0%9E%D1%81%D0%BD%D0%BE%D0%B2%D1%8B_%D0%B0%D0%BD%D0%B0%D0%BB%D0%B8%D0%B7%D0%B0_%D0%B4%D0%B0%D0%BD%D0%BD%D1%8B%D1%85_%D0%B2_Python\n",
      "http://math-info.hse.ru/2023-24/%D0%9F%D1%80%D0%BE%D0%B3%D1%80%D0%B0%D0%BC%D0%BC%D0%B8%D1%80%D0%BE%D0%B2%D0%B0%D0%BD%D0%B8%D0%B5_%D0%B4%D0%BB%D1%8F_%D0%B2%D1%81%D0%B5%D1%85_(%D0%BE%D1%81%D0%BD%D0%BE%D0%B2%D1%8B_Python)\n",
      "http://math-info.hse.ru/2023-24/%D0%92%D0%B2%D0%B5%D0%B4%D0%B5%D0%BD%D0%B8%D0%B5_%D0%B2_%D1%82%D0%B5%D0%BE%D1%80%D0%B8%D1%8E_%D0%B2%D0%B5%D1%80%D0%BE%D1%8F%D1%82%D0%BD%D0%BE%D1%81%D1%82%D0%B5%D0%B9_%D0%B8_%D0%BC%D0%B0%D1%82%D0%B5%D0%BC%D0%B0%D1%82%D0%B8%D1%87%D0%B5%D1%81%D0%BA%D1%83%D1%8E_%D1%81%D1%82%D0%B0%D1%82%D0%B8%D1%81%D1%82%D0%B8%D0%BA%D1%83\n",
      "http://math-info.hse.ru/2023-24/%D0%9F%D1%80%D0%BE%D0%B3%D1%80%D0%B0%D0%BC%D0%BC%D0%B8%D1%80%D0%BE%D0%B2%D0%B0%D0%BD%D0%B8%D0%B5_%D0%B4%D0%BB%D1%8F_%D0%B2%D1%81%D0%B5%D1%85:_%D0%BF%D1%80%D0%BE%D0%B4%D0%BE%D0%BB%D0%B6%D0%B5%D0%BD%D0%B8%D0%B5\n"
     ]
    }
   ],
   "source": [
    "# при печати все будут кликабельными\n",
    "\n",
    "for f in full_links:\n",
    "    print(f)"
   ]
  }
 ],
 "metadata": {
  "colab": {
   "provenance": []
  },
  "kernelspec": {
   "display_name": "Python 3",
   "language": "python",
   "name": "python3"
  },
  "language_info": {
   "codemirror_mode": {
    "name": "ipython",
    "version": 3
   },
   "file_extension": ".py",
   "mimetype": "text/x-python",
   "name": "python",
   "nbconvert_exporter": "python",
   "pygments_lexer": "ipython3",
   "version": "3.7.4"
  }
 },
 "nbformat": 4,
 "nbformat_minor": 1
}
