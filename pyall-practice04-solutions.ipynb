{
 "cells": [
  {
   "cell_type": "markdown",
   "metadata": {},
   "source": [
    "# Программирование для всех <br>(основы работы с Python)\n",
    "\n",
    "## Практикум 4. Разнообразие словарей и формат JSON\n",
    "\n",
    "*Алла Тамбовцева, НИУ ВШЭ*"
   ]
  },
  {
   "cell_type": "markdown",
   "metadata": {},
   "source": [
    "### Разнообразие словарей\n",
    "\n",
    "Словари могут состоять не только из строк, почти любые объекты могут быть ключами и значениями списка (забегая вперед, значениями – любые, ключами – только неизменяемые). Например, можно создать словарь оценок, состоящий из пар целых чисел, *числовой id студента-его оценка*."
   ]
  },
  {
   "cell_type": "code",
   "execution_count": 1,
   "metadata": {},
   "outputs": [],
   "source": [
    "numbers = {1:7, 2:8, 3:9}"
   ]
  },
  {
   "cell_type": "markdown",
   "metadata": {},
   "source": [
    "Обращаться к элементам мы будем, естественно, без кавычек, так как ключами являются числа:"
   ]
  },
  {
   "cell_type": "code",
   "execution_count": 2,
   "metadata": {},
   "outputs": [
    {
     "name": "stdout",
     "output_type": "stream",
     "text": [
      "7\n"
     ]
    }
   ],
   "source": [
    "print(numbers[1])"
   ]
  },
  {
   "cell_type": "markdown",
   "metadata": {},
   "source": [
    "Словари могут состоять из элементов смешанного типа. Например, вместо числового id можно явно записать имя студента:"
   ]
  },
  {
   "cell_type": "code",
   "execution_count": 3,
   "metadata": {},
   "outputs": [],
   "source": [
    "marks = {\"Петя\": 7, \"Вася\": 8, \"Коля\" : 9}"
   ]
  },
  {
   "cell_type": "code",
   "execution_count": 4,
   "metadata": {},
   "outputs": [
    {
     "name": "stdout",
     "output_type": "stream",
     "text": [
      "7\n"
     ]
    }
   ],
   "source": [
    "print(marks[\"Петя\"])"
   ]
  },
  {
   "cell_type": "markdown",
   "metadata": {},
   "source": [
    "Ну, и раз уж питоновские словари так похожи на обычные, давайте представим, что у нас есть словарь, где все слова многозначные. Ключом будет слово, а значением – целый список. "
   ]
  },
  {
   "cell_type": "code",
   "execution_count": 5,
   "metadata": {},
   "outputs": [],
   "source": [
    "my_dict = {'swear' : ['клясться', 'ругаться'], \n",
    "           'dream' : ['спать', 'мечтать']}"
   ]
  },
  {
   "cell_type": "markdown",
   "metadata": {},
   "source": [
    "По ключу мы получим значение в виде списка:"
   ]
  },
  {
   "cell_type": "code",
   "execution_count": 6,
   "metadata": {},
   "outputs": [
    {
     "name": "stdout",
     "output_type": "stream",
     "text": [
      "['клясться', 'ругаться']\n"
     ]
    }
   ],
   "source": [
    "print(my_dict['swear'])"
   ]
  },
  {
   "cell_type": "markdown",
   "metadata": {},
   "source": [
    "Как извлечь из словаря выше слово `клясться`?"
   ]
  },
  {
   "cell_type": "code",
   "execution_count": 7,
   "metadata": {},
   "outputs": [
    {
     "name": "stdout",
     "output_type": "stream",
     "text": [
      "клясться\n"
     ]
    }
   ],
   "source": [
    "print(my_dict['swear'][0])"
   ]
  },
  {
   "cell_type": "markdown",
   "metadata": {},
   "source": [
    "А слово `мечтать`?"
   ]
  },
  {
   "cell_type": "code",
   "execution_count": 8,
   "metadata": {},
   "outputs": [
    {
     "name": "stdout",
     "output_type": "stream",
     "text": [
      "мечтать\n"
     ]
    }
   ],
   "source": [
    "print(my_dict['dream'][1])"
   ]
  },
  {
   "cell_type": "markdown",
   "metadata": {},
   "source": [
    "Можем пойти дальше и создать словарь, где значениями являются словари! Например, представим, что в некотором сообществе проходят выборы, и каждый участник может проголосовать за любое число кандидатов. Данные сохраняются в виде словаря, где ключами являются имена пользователей, а значениями – пары *кандидат-голос*."
   ]
  },
  {
   "cell_type": "code",
   "execution_count": 9,
   "metadata": {},
   "outputs": [
    {
     "name": "stdout",
     "output_type": "stream",
     "text": [
      "{'user1': {'cand1': '+', 'cand2': '-'}, 'user2': {'cand1': '0', 'cand3': '+'}}\n"
     ]
    }
   ],
   "source": [
    "# '+' - за, '-' - против, 0 - воздержался\n",
    "\n",
    "votes = {'user1': {'cand1': '+', 'cand2': '-'},\n",
    "         'user2' : {'cand1': '0', 'cand3' : '+'}}\n",
    "print(votes)"
   ]
  },
  {
   "cell_type": "markdown",
   "metadata": {},
   "source": [
    "Как из словаря `votes`  извлечь  `+`, поставленный первым пользователем первому кандидату?"
   ]
  },
  {
   "cell_type": "code",
   "execution_count": 11,
   "metadata": {},
   "outputs": [
    {
     "name": "stdout",
     "output_type": "stream",
     "text": [
      "+\n"
     ]
    }
   ],
   "source": [
    "print(votes[\"user1\"][\"cand1\"])"
   ]
  },
  {
   "cell_type": "markdown",
   "metadata": {},
   "source": [
    "### Краткое знакомство с форматом JSON\n",
    "\n",
    "JSON (от *JavaScript Object Notation*) – текстовый формат хранения данных, изначально использовался в языке JavaScript, но затем стал универсальным машиночитаемым форматом, распознаваемым разными языками программирования. Различают: \n",
    "\n",
    "* JSON-строки (текст с определённой структурой данных внутри);\n",
    "* JSON-файлы (текстовые файлы с расширением `.json` со строкой JSON-внутри).\n",
    "\n",
    "Какие структуры данных Python могут встретиться внутри JSON-строки? Знакомые нам списки и словари!\n",
    "\n",
    "**Пример JSON-строки, содержащей списки**:"
   ]
  },
  {
   "cell_type": "code",
   "execution_count": 12,
   "metadata": {},
   "outputs": [],
   "source": [
    "# фрагмент результатов голосования в Арбитражный комитет Википедии: \n",
    "# время голосования, голос, кандидат, избиратель:\n",
    "\n",
    "example01 = \"\"\"\n",
    "[[\"2008-11-23 00:32:00\", \"-\", \"Solon\", \"Kalan\"], \n",
    "  [\"2008-11-23 00:34:00\", \"+\", \"Chronicler\", \"Altes\"], \n",
    "  [\"2008-11-23 00:34:00\", \"+\", \"Ilya Voyager\", \"Altes\"]]\n",
    "\"\"\""
   ]
  },
  {
   "cell_type": "markdown",
   "metadata": {},
   "source": [
    "**Пример JSON-строки, содержащей словари:**"
   ]
  },
  {
   "cell_type": "code",
   "execution_count": 13,
   "metadata": {},
   "outputs": [],
   "source": [
    "# фрагмент результатов голосования за актеров \n",
    "# на сайте kinoteatr.ru\n",
    "\n",
    "example02 = \"\"\"\n",
    "[{ \"id\":\"16804\", \"plus\":\"131\", \"minus\":\"4\", \"voted\":\"\" },\n",
    "{ \"id\":\"56008\", \"plus\":\"91\", \"minus\":\"10\", \"voted\":\"\" },\n",
    "{ \"id\":\"62460\", \"plus\":\"94\", \"minus\":\"4\", \"voted\":\"\" }]\n",
    "\"\"\""
   ]
  },
  {
   "cell_type": "markdown",
   "metadata": {},
   "source": [
    "Этот формат хранения данных удобен своей универсальностью. Во-первых, он позволяет сохранять и выгружать в компактные текстовые файлы данные со сложной структурой (например, словари, внутри которых есть ещё словари). Во-вторых, формат JSON не привязан к какому-то конкретному языку программирования. Можно создать список списков в Python, выгрузить его в строку JSON, затем считать эту строку с помощью другого языка и получить результат в виде аналогичных структур данных, принятых в этом языке (например, аналогом питоновского словаря *dict* в языке R может выступить поименованный вектор или фрейм *list*).\n",
    "\n",
    "По этим причинам формат JSON очень популярен. Его можно встретить при работе с географическими данными (файлы с особым расширением `.geojson`, которые содержат метки с координатами объектов), при парсинге HTML-страниц (файлы `.json`, из которых «подтягивается» регулярно обновляемая информация для построения всяких интерактивных визуализаций на сайте) и при подключении к API – интерфейсам, которые можно использовать как базы данных для автоматизированной выгрузки данных из приложений и социальных сетей.\n",
    "\n",
    "В этом практикуме мы поработаем со строками и файлами JSON и заодно обсудим некоторые примеры визуализации данных."
   ]
  },
  {
   "cell_type": "markdown",
   "metadata": {},
   "source": [
    "Импортируем необходимые для работы модули:\n",
    "\n",
    "* модуль `json` для обработки JSON-строк и JSON-файлов;\n",
    "* модуль `pyplot` с сокращённым названием `plt` из библиотеки `matplotlib` для построения графиков."
   ]
  },
  {
   "cell_type": "code",
   "execution_count": 14,
   "metadata": {},
   "outputs": [],
   "source": [
    "import json\n",
    "import matplotlib.pyplot as plt"
   ]
  },
  {
   "cell_type": "markdown",
   "metadata": {},
   "source": [
    "Модуль `json` базовый (как знакомый нам `math`), он не требует дополнительной установки. Библиотеки `pandas` и `matplotlib` базовыми не являются, но если мы работаем в Jupyter Notebook, входящим в дистрибутив Anaconda, они уже предустановлены (в Google Colab тоже)."
   ]
  },
  {
   "cell_type": "markdown",
   "metadata": {},
   "source": [
    "### Загрузка данных из JSON-строки и немного визуализации"
   ]
  },
  {
   "cell_type": "markdown",
   "metadata": {},
   "source": [
    "Посмотрим на пример данных в виде JSON-строки на странице с оценками фильма пользователей сайта Кинопоиск. Так как пока мы не обсуждали работу с HTML-страницами, чтобы понять, откуда взять данные для `str_data` ниже, выполним три шага:\n",
    "\n",
    "* откроем [страницу](https://www.kinopoisk.ru/film/44587/) фильма «Господин оформитель»;\n",
    "* заметим, что с нее можно перейти на [страницу](https://www.kinopoisk.ru/film/44587/votes/) с рейтингом и оценками;\n",
    "* откроем исходный код страницы (кликнуть правой клавишей и выбрать *Просмотр кода страницы*) и найдем через поиск по странице ссылку на JSON-файл, [откуда](https://kinopoisk-fvs.s3.yandex.net/films/44587/value-stats.json) подгружаются данные для построения кольцевой диаграммы. \n",
    "\n",
    "Итак, так как информации здесь немного, можем просто скопировать её со страницы в виде строки (это валидная строка в формате JSON):"
   ]
  },
  {
   "cell_type": "code",
   "execution_count": 15,
   "metadata": {},
   "outputs": [],
   "source": [
    "### YOUR CODE HERE ###\n",
    "\n",
    "str_data = \"\"\"\n",
    "[{\"value\":275,\"title\":\"1\",\"out\":null},{\"value\":144,\"title\":\"2\",\"out\":null},{\"value\":209,\"title\":\"3\",\"out\":null},{\"value\":322,\"title\":\"4\",\"out\":null},{\"value\":753,\"title\":\"5\",\"out\":null},{\"value\":1257,\"title\":\"6\",\"out\":null},{\"value\":2187,\"title\":\"7\",\"out\":\"true\"},{\"value\":2054,\"title\":\"8\",\"out\":null},{\"value\":1059,\"title\":\"9\",\"out\":null},{\"value\":1736,\"title\":\"10\",\"out\":null}]\n",
    "\"\"\""
   ]
  },
  {
   "cell_type": "markdown",
   "metadata": {},
   "source": [
    "Почему данные хранятся именно в таком виде? Во-первых, важно, чтобы информация, необходимая для построения графика, лежала в отдельном файле на сервере, чтобы была возможность этот файл динамически (в режиме реального времени или регулярно с определённой частотой) обновлять для построения актуальных визуализаций. Во-вторых, выбор формата обсуловлен тем, что графики, тем более, интерактивные, строятся с помощью языка JavaScript, в котором JSON и возник изначально."
   ]
  },
  {
   "cell_type": "markdown",
   "metadata": {},
   "source": [
    "Если мы посмотрим внимательно на `str_data`, мы заметим, что внутри этой строки лежит обычный список словарей. Каждый словарь описывает один сектор диаграммы (10 секторов = 10 значений оценок, фильмы оцениваются по 10-балльной шкале), а именно:\n",
    "\n",
    "* записи с ключом `title` содержат оценки от 1 до 10;\n",
    "* записи с ключом `value` содержат количество таких оценок;\n",
    "* записи с ключом `out` содержат отметки того, какие сектора отодвинуты на графике (здесь один – с оценками 7, где значение `true`)."
   ]
  },
  {
   "cell_type": "markdown",
   "metadata": {},
   "source": [
    "Для преобразования строки в полноценный список словарей воспользуемся функцией `.loads()` из модуля `json`: "
   ]
  },
  {
   "cell_type": "code",
   "execution_count": 16,
   "metadata": {},
   "outputs": [
    {
     "data": {
      "text/plain": [
       "[{'value': 275, 'title': '1', 'out': None},\n",
       " {'value': 144, 'title': '2', 'out': None},\n",
       " {'value': 209, 'title': '3', 'out': None},\n",
       " {'value': 322, 'title': '4', 'out': None},\n",
       " {'value': 753, 'title': '5', 'out': None},\n",
       " {'value': 1257, 'title': '6', 'out': None},\n",
       " {'value': 2187, 'title': '7', 'out': 'true'},\n",
       " {'value': 2054, 'title': '8', 'out': None},\n",
       " {'value': 1059, 'title': '9', 'out': None},\n",
       " {'value': 1736, 'title': '10', 'out': None}]"
      ]
     },
     "execution_count": 16,
     "metadata": {},
     "output_type": "execute_result"
    }
   ],
   "source": [
    "L = json.loads(str_data)\n",
    "L"
   ]
  },
  {
   "cell_type": "markdown",
   "metadata": {},
   "source": [
    "> **Примечание.** В модуле `json` есть две функции, `loads()` и `load()`. Первая преобразует данные из обычной строки (как здесь), вторая – данные, загруженные из файла (будет далее). Преобразование JSON-строки в структуру данных называется *десериализацией JSON*. Обратная операция – превращение структуры данных в Python в JSON-строку – тоже существует, и называется  она *сериализацией JSON*. Для сериализации используется аналогичная пара функций, `dumps()` и `dump()`. Первая будет превращать структуру данных в JSON-строку, вторая – превращать структуру данных в строку и выгружать эту строку в файл с расширением `.json`."
   ]
  },
  {
   "cell_type": "markdown",
   "metadata": {},
   "source": [
    "Итак, список словарей мы получили. Забегая вперёд, отметим, что из списка словарей (и списка списков тоже) можно получить удобную таблицу, датафрейм `pandas`, но с датафреймами мы познакомимся позже, поэтому пока давайте просто напишем код, который сохранит в список `values` оценки, а в список `counts` – их количество. С помощью такого набора частот мы сможем построить столбиковую или круговую диаграмму, которая отобразит распределение оценок."
   ]
  },
  {
   "cell_type": "code",
   "execution_count": 17,
   "metadata": {},
   "outputs": [
    {
     "name": "stdout",
     "output_type": "stream",
     "text": [
      "['1', '2', '3', '4', '5', '6', '7', '8', '9', '10'] [275, 144, 209, 322, 753, 1257, 2187, 2054, 1059, 1736]\n"
     ]
    }
   ],
   "source": [
    "values = []\n",
    "counts = []\n",
    "\n",
    "for d in L:\n",
    "    values.append(d[\"title\"])\n",
    "    counts.append(d[\"value\"])\n",
    "    \n",
    "print(values, counts)"
   ]
  },
  {
   "cell_type": "markdown",
   "metadata": {},
   "source": [
    "Построим столбиковую диаграмму – воспользуемся функцией `bar()` из модуля `pyplot`, который мы сократили до `plt`:"
   ]
  },
  {
   "cell_type": "code",
   "execution_count": 18,
   "metadata": {},
   "outputs": [
    {
     "data": {
      "image/png": "[encoded data removed]",
      "text/plain": [
       "<Figure size 432x288 with 1 Axes>"
      ]
     },
     "metadata": {
      "needs_background": "light"
     },
     "output_type": "display_data"
    }
   ],
   "source": [
    "plt.bar(values, counts);"
   ]
  },
  {
   "cell_type": "markdown",
   "metadata": {},
   "source": [
    "Давайте сделаем график повеселее – поработаем с цветами. Рассмотрим пример готовой цветовой палитры из 10 цветов – палитра *Pink Foam* [отсюда](https://www.heavy.ai/blog/12-color-palettes-for-telling-better-stories-with-your-data)). Если мы хотим использовать все 10 цветов, всё просто: забираем коды всех цветов, сохраняем в список, а затем этот список названий цветов добавляем в опцию `color` у функции `bar()`. Но мы пойдём более сложным путём. Поделим все оценки по-вышкинскому (оценки 1-3 плохие, оценки 4-5 удовлетворительные, 6-7 хорошие, 8-10 отличные) и за каждой категорией закрепим свой цвет:"
   ]
  },
  {
   "cell_type": "code",
   "execution_count": 19,
   "metadata": {},
   "outputs": [
    {
     "data": {
      "text/plain": [
       "['#d7658b',\n",
       " '#d7658b',\n",
       " '#d7658b',\n",
       " '#e4bcad',\n",
       " '#e4bcad',\n",
       " '#badbdb',\n",
       " '#badbdb',\n",
       " '#76c8c8',\n",
       " '#76c8c8',\n",
       " '#76c8c8']"
      ]
     },
     "execution_count": 19,
     "metadata": {},
     "output_type": "execute_result"
    }
   ],
   "source": [
    "# чтобы не создавать список с повторяющими значениями,\n",
    "# копируя названия цветов, воспользуемся тем, что списки можно \n",
    "# умножать на число и склеивать друг с другом через +\n",
    "\n",
    "cc = [\"#d7658b\"] * 3 + [\"#e4bcad\"] * 2 + [\"#badbdb\"] * 2 + [\"#76c8c8\"] * 3\n",
    "cc"
   ]
  },
  {
   "cell_type": "markdown",
   "metadata": {},
   "source": [
    "Добавляем цвета на график – вписываем список в аргумент `color`: "
   ]
  },
  {
   "cell_type": "code",
   "execution_count": 20,
   "metadata": {},
   "outputs": [
    {
     "data": {
      "image/png": "[encoded data removed]",
      "text/plain": [
       "<Figure size 432x288 with 1 Axes>"
      ]
     },
     "metadata": {
      "needs_background": "light"
     },
     "output_type": "display_data"
    }
   ],
   "source": [
    "plt.bar(values, counts, color = cc);"
   ]
  }
 ],
 "metadata": {
  "kernelspec": {
   "display_name": "Python 3",
   "language": "python",
   "name": "python3"
  },
  "language_info": {
   "codemirror_mode": {
    "name": "ipython",
    "version": 3
   },
   "file_extension": ".py",
   "mimetype": "text/x-python",
   "name": "python",
   "nbconvert_exporter": "python",
   "pygments_lexer": "ipython3",
   "version": "3.7.4"
  }
 },
 "nbformat": 4,
 "nbformat_minor": 2
}
